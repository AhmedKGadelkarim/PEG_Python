{
 "cells": [
  {
   "cell_type": "code",
   "execution_count": 9,
   "metadata": {},
   "outputs": [],
   "source": [
    "import writer\n",
    "import pandas as pd\n",
    "import datetime"
   ]
  },
  {
   "cell_type": "code",
   "execution_count": 2,
   "metadata": {},
   "outputs": [],
   "source": [
    "all_keywords_toexport = {}\n",
    "file = 'Input.xlsx'\n"
   ]
  },
  {
   "cell_type": "code",
   "execution_count": 3,
   "metadata": {},
   "outputs": [],
   "source": [
    "some_keywords = ['DATES', 'WELSPECS', 'COMPDAT', 'GRUPTREE']\n",
    "for keyword in some_keywords:\n",
    "    all_keywords_toexport[keyword] = pd.read_excel(file, sheet_name=keyword)"
   ]
  },
  {
   "cell_type": "code",
   "execution_count": 4,
   "metadata": {},
   "outputs": [],
   "source": [
    "output_file = './INCLUDE/FirstExport.INC'\n",
    "writer.schedule_writer(output_file, all_keywords_toexport, some_keywords)"
   ]
  },
  {
   "cell_type": "markdown",
   "metadata": {},
   "source": [
    "### Automate generation of the WCONINJE, WCONPROD, GCONPROD, GCONINJE"
   ]
  },
  {
   "cell_type": "code",
   "execution_count": 7,
   "metadata": {},
   "outputs": [
    {
     "data": {
      "text/plain": [
       "['GROUP',\n",
       " 'TARGET',\n",
       " 'ORAT',\n",
       " 'WRAT',\n",
       " 'GAS',\n",
       " 'LRAT',\n",
       " 'ACTION',\n",
       " 'GROUPCONTROL',\n",
       " 'GROUPGUIDE',\n",
       " 'GUIDEPHASE',\n",
       " 'OPT1',\n",
       " 'OPT2',\n",
       " 'OPT3',\n",
       " 'RESV']"
      ]
     },
     "execution_count": 7,
     "metadata": {},
     "output_type": "execute_result"
    }
   ],
   "source": [
    "writer.master_dict['GCONPROD']"
   ]
  },
  {
   "cell_type": "code",
   "execution_count": 11,
   "metadata": {},
   "outputs": [],
   "source": [
    "def gconprod(group, target_type, orate, wrate, gasrate, date):\n",
    "    this_dict = {}\n",
    "    this_item = writer.master_dict['GCONPROD']\n",
    "    for item in this_item:\n",
    "        this_dict[item] = '1*'\n",
    "    this_dict['GROUP'] = group\n",
    "    this_dict['TARGET'] = target_type\n",
    "    this_dict['ORAT'] = orate\n",
    "    this_dict['WRAT'] = wrate\n",
    "    this_dict['GAS'] = gasrate\n",
    "    this_dict['date'] = date\n",
    "    df_gconprod = pd.DataFrame(columns = this_item)\n",
    "    df_gconprod = df_gconprod.append(this_dict, ignore_index=True)\n",
    "    return df_gconprod"
   ]
  },
  {
   "cell_type": "code",
   "execution_count": 13,
   "metadata": {},
   "outputs": [],
   "source": [
    "#['WCONINJE', 'WCONPROD', 'GCONPROD', 'GCONINJE']\n",
    "\n",
    "df = gconprod('FIELD', 'ORAT', 30000, 20000, 6E6, datetime.date(2022, 10, 31))\n",
    "all_keywords_toexport['GCONPROD'] = df"
   ]
  },
  {
   "cell_type": "code",
   "execution_count": 15,
   "metadata": {},
   "outputs": [],
   "source": [
    "output_file = './INCLUDE/SecondExport.INC'\n",
    "writer.schedule_writer(output_file, all_keywords_toexport, some_keywords+['GCONPROD'])"
   ]
  },
  {
   "cell_type": "code",
   "execution_count": null,
   "metadata": {},
   "outputs": [],
   "source": []
  }
 ],
 "metadata": {
  "kernelspec": {
   "display_name": "Python 3",
   "language": "python",
   "name": "python3"
  },
  "language_info": {
   "codemirror_mode": {
    "name": "ipython",
    "version": 3
   },
   "file_extension": ".py",
   "mimetype": "text/x-python",
   "name": "python",
   "nbconvert_exporter": "python",
   "pygments_lexer": "ipython3",
   "version": "3.7.1"
  }
 },
 "nbformat": 4,
 "nbformat_minor": 4
}
